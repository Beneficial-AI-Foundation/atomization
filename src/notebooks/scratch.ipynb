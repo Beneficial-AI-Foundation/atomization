{
 "cells": [
  {
   "cell_type": "code",
   "execution_count": 17,
   "id": "cf60d362-ee78-45bf-9cf1-a3065a9df796",
   "metadata": {
    "collapsed": false,
    "jupyter": {
     "outputs_hidden": false
    }
   },
   "outputs": [],
   "source": [
    "from pathlib import Path\n",
    "import json\n",
    "from coqpyt.coq.structs import TermType\n",
    "from coqpyt.coq.base_file import CoqFile\n",
    "from coqpyt.coq.proof_file import ProofFile\n",
    "from coqpyt.coq.changes import ProofAppend, ProofPop\n",
    "from coqpyt.coq.exceptions import InvalidChangeException"
   ]
  },
  {
   "cell_type": "code",
   "execution_count": 2,
   "id": "2c2f5511-4b62-4cbe-b816-a7b9c3b05b21",
   "metadata": {
    "collapsed": false,
    "jupyter": {
     "outputs_hidden": false
    }
   },
   "outputs": [],
   "source": [
    "up = Path(\"..\")\n",
    "examples = up / \"examples\"\n",
    "   "
   ]
  },
  {
   "cell_type": "code",
   "execution_count": 44,
   "id": "08cb3c40-97e0-4d4a-9e92-99832409e612",
   "metadata": {
    "collapsed": false,
    "jupyter": {
     "outputs_hidden": false
    }
   },
   "outputs": [
    {
     "name": "stdout",
     "output_type": "stream",
     "text": [
      "<class 'coqpyt.coq.structs.ProofTerm'>\n",
      "<class 'coqpyt.coq.structs.Term'> Notation \"∀ x .. y , P\" := (forall x, .. (forall y, P) ..) (at level 10, x binder, y binder, P at level 200, format \"'[ ' '[ ' ∀ x .. y ']' , '/' P ']'\") : type_scope.\n",
      "\n",
      "(************************************************************************)\n",
      "(*         *   The Coq Proof Assistant / The Coq Development Team       *)\n",
      "(*  v      *         Copyright INRIA, CNRS and contributors             *)\n",
      "(* <O___,, * (see version control and CREDITS file for authors & dates) *)\n",
      "(*   \\VV/  **************************************************************)\n",
      "(*    //   *    This file is distributed under the terms of the         *)\n",
      "(*         *     GNU Lesser General Public License Version 2.1          *)\n",
      "(*         *     (see LICENSE file for the text of the license)         *)\n",
      "(************************************************************************)\n",
      "\n",
      "\n",
      "\n",
      "(* Logic *)\n",
      "Notation \"∀ x .. y , P\" := (forall x, .. (forall y, P) ..)\n",
      "  (at level 10, x binder, y binder, P at level 200,\n",
      "  format \"'[  ' '[  ' ∀  x  ..  y ']' ,  '/' P ']'\") : type_scope.\n",
      "ast\n",
      "diagnostics\n",
      "short_text\n",
      "text\n",
      "\n",
      "(************************************************************************)\n",
      "(*         *   The Coq Proof Assistant / The Coq Development Team       *)\n",
      "(*  v      *         Copyright INRIA, CNRS and contributors             *)\n",
      "(* <O___,, * (see version control and CREDITS file for authors & dates) *)\n",
      "(*   \\VV/  **************************************************************)\n",
      "(*    //   *    This file is distributed under the terms of the         *)\n",
      "(*         *     GNU Lesser General Public License Version 2.1          *)\n",
      "(*         *     (see LICENSE file for the text of the license)         *)\n",
      "(************************************************************************)\n",
      "\n",
      "\n",
      "\n",
      "(* Logic *)\n",
      "Notation \"∀ x .. y , P\" := (forall x, .. (forall y, P) ..)\n",
      "  (at level 10, x binder, y binder, P at level 200,\n",
      "  format \"'[  ' '[  ' ∀  x  ..  y ']' ,  '/' P ']'\") : type_scope.\n",
      "<class 'coqpyt.coq.structs.Term'> Notation \"x = y\" := (eq x y) : type_scope.\n",
      "\n",
      "\n",
      "Notation \"x = y\" := (eq x y) : type_scope.\n",
      "ast\n",
      "diagnostics\n",
      "short_text\n",
      "text\n",
      "\n",
      "\n",
      "Notation \"x = y\" := (eq x y) : type_scope.\n",
      "<class 'coqpyt.coq.structs.Term'> Fixpoint add n m := match n with | 0 => m | S p => S (p + m) end where \"n + m\" := (add n m) : nat_scope.\n",
      "\n",
      "\n",
      "Fixpoint add n m :=\n",
      "  match n with\n",
      "  | 0 => m\n",
      "  | S p => S (p + m)\n",
      "  end\n",
      "\n",
      "where \"n + m\" := (add n m) : nat_scope.\n",
      "ast\n",
      "diagnostics\n",
      "short_text\n",
      "text\n",
      "\n",
      "\n",
      "Fixpoint add n m :=\n",
      "  match n with\n",
      "  | 0 => m\n",
      "  | S p => S (p + m)\n",
      "  end\n",
      "\n",
      "where \"n + m\" := (add n m) : nat_scope.\n",
      "<class 'coqpyt.coq.structs.Term'> Fixpoint mul n m := match n with | 0 => 0 | S p => m + p * m end where \"n * m\" := (mul n m) : nat_scope.\n",
      "\n",
      "\n",
      "Fixpoint mul n m :=\n",
      "  match n with\n",
      "  | 0 => 0\n",
      "  | S p => m + p * m\n",
      "  end\n",
      "\n",
      "where \"n * m\" := (mul n m) : nat_scope.\n",
      "ast\n",
      "diagnostics\n",
      "short_text\n",
      "text\n",
      "\n",
      "\n",
      "Fixpoint mul n m :=\n",
      "  match n with\n",
      "  | 0 => 0\n",
      "  | S p => m + p * m\n",
      "  end\n",
      "\n",
      "where \"n * m\" := (mul n m) : nat_scope.\n",
      "<class 'coqpyt.coq.structs.Term'> Inductive nat : Set := | O : nat | S : nat -> nat.\n",
      "\n",
      "\n",
      "(********************************************************************)\n",
      "(** * Peano natural numbers *)\n",
      "\n",
      "(** [nat] is the datatype of natural numbers built from [O] and successor [S];\n",
      "    note that the constructor name is the letter O.\n",
      "    Numbers in [nat] can be denoted using a decimal notation;\n",
      "    e.g. [3%nat] abbreviates [S (S (S O))] *)\n",
      "\n",
      "Inductive nat : Set :=\n",
      "  | O : nat\n",
      "  | S : nat -> nat.\n",
      "ast\n",
      "diagnostics\n",
      "short_text\n",
      "text\n",
      "\n",
      "\n",
      "(********************************************************************)\n",
      "(** * Peano natural numbers *)\n",
      "\n",
      "(** [nat] is the datatype of natural numbers built from [O] and successor [S];\n",
      "    note that the constructor name is the letter O.\n",
      "    Numbers in [nat] can be denoted using a decimal notation;\n",
      "    e.g. [3%nat] abbreviates [S (S (S O))] *)\n",
      "\n",
      "Inductive nat : Set :=\n",
      "  | O : nat\n",
      "  | S : nat -> nat.\n",
      "[\n",
      "Proof., \n",
      "    intros n m., \n",
      "    rewrite -> (plus_O_n (S n * m))., \n",
      "    reflexivity., \n",
      "Qed.]\n",
      "Attrs:\n",
      "ast\n",
      "context\n",
      "file_path\n",
      "module\n",
      "program\n",
      "step\n",
      "steps\n",
      "text\n",
      "type\n"
     ]
    }
   ],
   "source": [
    "with ProofFile(examples / \"minimal.v\") as pf:\n",
    "    pf.run()\n",
    "    mult_0_plus = pf.proofs[0]\n",
    "    print(type(mult_0_plus))\n",
    "    for item in mult_0_plus.context:\n",
    "        print(type(item), item)\n",
    "        print(item.step)\n",
    "        for attr in dir(item.step):\n",
    "            if attr[0] != \"_\":\n",
    "                print(attr)\n",
    "        print(item.step)\n",
    "\n",
    "    print(mult_0_plus.steps)\n",
    "    \n",
    "    print(\"Attrs:\")\n",
    "    for attr in dir(mult_0_plus):\n",
    "        if attr[0] != \"_\":\n",
    "            print(attr)\n"
   ]
  },
  {
   "cell_type": "code",
   "execution_count": 23,
   "id": "3d11f2f8-453f-4995-8bd4-4616acffc02e",
   "metadata": {
    "collapsed": false,
    "jupyter": {
     "outputs_hidden": false
    }
   },
   "outputs": [
    {
     "name": "stdout",
     "output_type": "stream",
     "text": [
      "<class 'str'>\n",
      "[Notation \"∀ x .. y , P\" := (forall x, .. (forall y, P) ..) (at level 10, x binder, y binder, P at level 200, format \"'[ ' '[ ' ∀ x .. y ']' , '/' P ']'\") : type_scope., Notation \"x = y\" := (eq x y) : type_scope., Fixpoint add n m := match n with | 0 => m | S p => S (p + m) end where \"n + m\" := (add n m) : nat_scope., Fixpoint mul n m := match n with | 0 => 0 | S p => m + p * m end where \"n * m\" := (mul n m) : nat_scope., Inductive nat : Set := | O : nat | S : nat -> nat.]\n",
      "character\n",
      "line\n",
      "offset\n",
      "Theorem mult_0_plus : ∀ n m : nat, 0 + (S n * m) = S n * m.\n",
      "\n",
      "\n",
      "Theorem mult_0_plus : ∀ n m : nat, 0 + (S n * m) = S n * m.\n",
      "<class 'str'>\n",
      "[Notation list := list (only parsing)., Notation \"x = y\" := (eq x y) : type_scope., Fixpoint rev (l:list A) : list A := match l with | [] => [] | x :: l' => rev l' ++ [x] end., Infix \"++\" := app (right associativity, at level 60) : list_scope.]\n",
      "character\n",
      "line\n",
      "offset\n",
      "Lemma rev_append: forall {a} (l1 l2: list a), rev (l1 ++ l2) = rev l2 ++ rev l1.\n",
      "\n",
      "\n",
      "Lemma rev_append: forall {a} (l1 l2: list a),\n",
      "  rev (l1 ++ l2) = rev l2 ++ rev l1.\n"
     ]
    }
   ],
   "source": [
    "with ProofFile(examples / \"minimal.v\") as pf:\n",
    "    pf.run()\n",
    "    for proof in pf.proofs:\n",
    "        print(type(proof.step.short_text))\n",
    "        print(proof.context)\n",
    "        #print(json.loads(proof.step.ast.range))\n",
    "        for attr in dir(proof.step.ast.range.start):\n",
    "            if attr[0] != \"_\":\n",
    "                print(attr)\n",
    "        print(proof.step.short_text)\n",
    "        print(proof.step.text)\n",
    "   "
   ]
  },
  {
   "cell_type": "code",
   "execution_count": 26,
   "id": "8e8d8c99-9912-4b2e-b2fe-ebf1237344c4",
   "metadata": {
    "collapsed": false,
    "jupyter": {
     "outputs_hidden": false
    }
   },
   "outputs": [
    {
     "name": "stdout",
     "output_type": "stream",
     "text": [
      "TermType.THEOREM\n",
      "TermType.LEMMA\n",
      "TermType.DEFINITION\n",
      "TermType.NOTATION\n",
      "TermType.INDUCTIVE\n",
      "TermType.COINDUCTIVE\n",
      "TermType.RECORD\n",
      "TermType.CLASS\n",
      "TermType.INSTANCE\n",
      "TermType.FIXPOINT\n",
      "TermType.COFIXPOINT\n",
      "TermType.SCHEME\n",
      "TermType.VARIANT\n",
      "TermType.FACT\n",
      "TermType.REMARK\n",
      "TermType.COROLLARY\n",
      "TermType.PROPOSITION\n",
      "TermType.PROPERTY\n",
      "TermType.OBLIGATION\n",
      "TermType.TACTIC\n",
      "TermType.RELATION\n",
      "TermType.SETOID\n",
      "TermType.FUNCTION\n",
      "TermType.DERIVE\n",
      "TermType.EQUATION\n",
      "TermType.OTHER\n"
     ]
    }
   ],
   "source": [
    "for typ in TermType:\n",
    "    print(typ)"
   ]
  },
  {
   "cell_type": "code",
   "execution_count": null,
   "id": "945635fe-2dd4-40af-a7f0-f1c905b71c5a",
   "metadata": {},
   "outputs": [],
   "source": []
  }
 ],
 "metadata": {
  "kernelspec": {
   "display_name": "Python 3",
   "language": "python",
   "name": "python3"
  },
  "language_info": {
   "codemirror_mode": {
    "name": "ipython",
    "version": 3
   },
   "file_extension": ".py",
   "mimetype": "text/x-python",
   "name": "python",
   "nbconvert_exporter": "python",
   "pygments_lexer": "ipython3",
   "version": "3.12.7"
  },
  "name": "scratch.ipynb"
 },
 "nbformat": 4,
 "nbformat_minor": 5
}
