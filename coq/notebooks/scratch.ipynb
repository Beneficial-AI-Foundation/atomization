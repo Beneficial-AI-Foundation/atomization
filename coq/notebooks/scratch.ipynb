{
 "cells": [
  {
   "cell_type": "code",
   "execution_count": 1,
   "id": "cf60d362-ee78-45bf-9cf1-a3065a9df796",
   "metadata": {
    "collapsed": false
   },
   "outputs": [],
   "source": [
    "from pathlib import Path\n",
    "from coqpyt.coq.structs import TermType\n",
    "from coqpyt.coq.base_file import CoqFile\n",
    "from coqpyt.coq.proof_file import ProofFile\n",
    "from coqpyt.coq.changes import ProofAppend, ProofPop\n",
    "from coqpyt.coq.exceptions import InvalidChangeException"
   ]
  },
  {
   "cell_type": "code",
   "execution_count": 3,
   "id": "2c2f5511-4b62-4cbe-b816-a7b9c3b05b21",
   "metadata": {
    "collapsed": false
   },
   "outputs": [],
   "source": [
    "up = Path(\"..\")\n",
    "examples = up / \"examples\"\n",
    "   "
   ]
  },
  {
   "cell_type": "code",
   "execution_count": 19,
   "id": "08cb3c40-97e0-4d4a-9e92-99832409e612",
   "metadata": {
    "collapsed": false
   },
   "outputs": [
    {
     "name": "stdout",
     "output_type": "stream",
     "text": [
      "Notation \"∀ x .. y , P\" := (forall x, .. (forall y, P) ..) (at level 10, x binder, y binder, P at level 200, format \"'[ ' '[ ' ∀ x .. y ']' , '/' P ']'\") : type_scope.\n",
      "Notation \"x = y\" := (eq x y) : type_scope.\n",
      "Fixpoint add n m := match n with | 0 => m | S p => S (p + m) end where \"n + m\" := (add n m) : nat_scope.\n",
      "Fixpoint mul n m := match n with | 0 => 0 | S p => m + p * m end where \"n * m\" := (mul n m) : nat_scope.\n",
      "Inductive nat : Set := | O : nat | S : nat -> nat.\n",
      "Attrs:\n",
      "ast\n",
      "context\n",
      "file_path\n",
      "module\n",
      "program\n",
      "step\n",
      "steps\n",
      "text\n",
      "type\n"
     ]
    }
   ],
   "source": [
    "with ProofFile(examples / \"minimal.v\") as pf:\n",
    "    pf.run()\n",
    "    mult_0_plus = pf.proofs[0]\n",
    "    for item in mult_0_plus.context:\n",
    "        print(item)\n",
    "    print(\"Attrs:\")\n",
    "    for attr in dir(mult_0_plus):\n",
    "        if attr[0] != \"_\":\n",
    "            print(attr)\n"
   ]
  },
  {
   "cell_type": "code",
   "execution_count": 37,
   "id": "3d11f2f8-453f-4995-8bd4-4616acffc02e",
   "metadata": {
    "collapsed": false
   },
   "outputs": [
    {
     "name": "stdout",
     "output_type": "stream",
     "text": [
      "<class 'str'>\n",
      "Theorem mult_0_plus : ∀ n m : nat, 0 + (S n * m) = S n * m.\n",
      "\n",
      "\n",
      "Theorem mult_0_plus : ∀ n m : nat, 0 + (S n * m) = S n * m.\n",
      "<class 'str'>\n",
      "Lemma rev_append: forall {a} (l1 l2: list a), rev (l1 ++ l2) = rev l2 ++ rev l1.\n",
      "\n",
      "\n",
      "Lemma rev_append: forall {a} (l1 l2: list a),\n",
      "  rev (l1 ++ l2) = rev l2 ++ rev l1.\n"
     ]
    }
   ],
   "source": [
    "with ProofFile(examples / \"minimal.v\") as pf:\n",
    "    pf.run()\n",
    "    for proof in pf.proofs:\n",
    "        print(type(proof.step.short_text))\n",
    "        print(proof.step.short_text)\n",
    "        print(proof.step.text)\n",
    "   "
   ]
  },
  {
   "cell_type": "code",
   "execution_count": 37,
   "id": "8e8d8c99-9912-4b2e-b2fe-ebf1237344c4",
   "metadata": {
    "collapsed": false
   },
   "outputs": [],
   "source": [
    "       "
   ]
  }
 ],
 "metadata": {
  "kernelspec": {
   "argv": [
    "/nix/store/a4w2riccpn1bp03ix03daagj41w9kqp6-python3-3.12.7-env/bin/python3.12",
    "-m",
    "ipykernel_launcher",
    "-f",
    "{connection_file}"
   ],
   "display_name": "Python 3",
   "env": null,
   "interrupt_mode": "signal",
   "language": "python",
   "metadata": null,
   "name": "python3"
  },
  "language_info": {
   "codemirror_mode": {
    "name": "ipython",
    "version": 3
   },
   "file_extension": ".py",
   "mimetype": "text/x-python",
   "name": "python",
   "nbconvert_exporter": "python",
   "pygments_lexer": "ipython3",
   "version": "3.12.7"
  },
  "name": "scratch.ipynb"
 },
 "nbformat": 4,
 "nbformat_minor": 5
}
